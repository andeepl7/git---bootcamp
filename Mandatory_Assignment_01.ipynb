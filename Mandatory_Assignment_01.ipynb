{
  "nbformat": 4,
  "nbformat_minor": 0,
  "metadata": {
    "colab": {
      "provenance": [],
      "collapsed_sections": [],
      "include_colab_link": true
    },
    "kernelspec": {
      "name": "python3",
      "display_name": "Python 3"
    },
    "language_info": {
      "name": "python"
    }
  },
  "cells": [
    {
      "cell_type": "markdown",
      "metadata": {
        "id": "view-in-github",
        "colab_type": "text"
      },
      "source": [
        "<a href=\"https://colab.research.google.com/github/andeepl7/git-bootcamp/blob/main/Mandatory_Assignment_01.ipynb\" target=\"_parent\"><img src=\"https://colab.research.google.com/assets/colab-badge.svg\" alt=\"Open In Colab\"/></a>"
      ]
    },
    {
      "cell_type": "markdown",
      "source": [
        "# **Mandatory Assignment 01**"
      ],
      "metadata": {
        "id": "yke8W4xCgAsf"
      }
    },
    {
      "cell_type": "markdown",
      "source": [
        "## **Section I: Assignment on Basic Python Constructs**"
      ],
      "metadata": {
        "id": "DQS5A8uIhe63"
      }
    },
    {
      "cell_type": "markdown",
      "source": [
        "### Question 1\n",
        "[Assignment on control structures]"
      ],
      "metadata": {
        "id": "ckNTzRFWhsV0"
      }
    },
    {
      "cell_type": "code",
      "source": [
        "hundred_digit_str = \"731671765313306249192251\"\\\n",
        "                    \"196744265747423553491949349\"\\\n",
        "                    \"6983520312774506326239578318\"\\\n",
        "                    \"016984801869478851843\"\n",
        "print(hundred_digit_str)"
      ],
      "metadata": {
        "id": "W2tkIF5aiAxw",
        "colab": {
          "base_uri": "https://localhost:8080/"
        },
        "outputId": "7f269841-ceee-4d62-afab-ceba07910eaf"
      },
      "execution_count": null,
      "outputs": [
        {
          "output_type": "stream",
          "name": "stdout",
          "text": [
            "7316717653133062491922511967442657474235534919493496983520312774506326239578318016984801869478851843\n"
          ]
        }
      ]
    },
    {
      "cell_type": "code",
      "source": [
        "# Defining the function\n",
        "def consecutive_func(inputstring):\n",
        "    inputstring = [int(ch) for ch in inputstring]\n",
        "    consecutive = 4\n",
        "    max_result = 0\n",
        "    for i in range(len(inputstring) - consecutive + 1):\n",
        "        result = inputstring[i] * inputstring[i + 1] * inputstring[i + 2] * inputstring[i + 3]\n",
        "        if result > max_result:\n",
        "            max_result = result\n",
        "\n",
        "    return print(f'The max_result is: {max_result}')\n",
        "\n",
        "# Using the function in the list\n",
        "consecutive_func(hundred_digit_str)"
      ],
      "metadata": {
        "colab": {
          "base_uri": "https://localhost:8080/"
        },
        "id": "tf66evsVCNuE",
        "outputId": "34e5f0b9-2cbf-43b2-eb79-e09614faf19e"
      },
      "execution_count": null,
      "outputs": [
        {
          "output_type": "stream",
          "name": "stdout",
          "text": [
            "The max_result is: 3888\n"
          ]
        }
      ]
    },
    {
      "cell_type": "code",
      "source": [],
      "metadata": {
        "id": "DGHS-q66NQBF"
      },
      "execution_count": null,
      "outputs": []
    },
    {
      "cell_type": "markdown",
      "source": [
        "### Question 2\n",
        "[Assignment on list comprehension]"
      ],
      "metadata": {
        "id": "5EMwzThOiDVO"
      }
    },
    {
      "cell_type": "code",
      "source": [
        "list_01 = [1 ,2 ,3 ,4 ,5 ,6 ,7 ,8 ,9]"
      ],
      "metadata": {
        "id": "x4PIZc3giP9G"
      },
      "execution_count": null,
      "outputs": []
    },
    {
      "cell_type": "code",
      "source": [
        "def separate_even_odd (tlist):\n",
        "    evenlist = [i for i in tlist if i % 2 == 0]\n",
        "    oddlist = [i for i in tlist if i % 2 != 0]\n",
        "    print(f'Even list = {evenlist}') \n",
        "    print(f'Odd list = {oddlist}')\n",
        "\n",
        "separate_even_odd(list_01)"
      ],
      "metadata": {
        "id": "cn7O9KbsCU9Y",
        "outputId": "7f379799-31e6-4ef0-d4bd-4e7933e6be74",
        "colab": {
          "base_uri": "https://localhost:8080/"
        }
      },
      "execution_count": null,
      "outputs": [
        {
          "output_type": "stream",
          "name": "stdout",
          "text": [
            "Even list = [2, 4, 6, 8]\n",
            "Odd list = [1, 3, 5, 7, 9]\n"
          ]
        }
      ]
    },
    {
      "cell_type": "markdown",
      "source": [
        "### Question 3\n",
        "[Assignment on recursion]"
      ],
      "metadata": {
        "id": "TqUMAMotiQzk"
      }
    },
    {
      "cell_type": "code",
      "source": [
        "def reversedtext(x):\n",
        "    if len(x) == 1:\n",
        "        return x\n",
        "    return reversedtext(x[1:]) + x[0:1]\n",
        "x = \"Copenhagen\"\n",
        "print(reversedtext(x))"
      ],
      "metadata": {
        "id": "1I1pBhaZifVk",
        "colab": {
          "base_uri": "https://localhost:8080/"
        },
        "outputId": "21edee86-f179-4230-91cf-3417fb266861"
      },
      "execution_count": null,
      "outputs": [
        {
          "output_type": "stream",
          "name": "stdout",
          "text": [
            "negahnepoC\n"
          ]
        }
      ]
    },
    {
      "cell_type": "code",
      "source": [
        "def reverse_string(in_str):\n",
        "    \"\"\"A recursive function that will reverse a given string.\n",
        "    Takes one argument, an input string called in_str, and returns the reverse string.\"\"\"\n",
        "\n",
        "    # If the length of in_str is equal to 0, return in_str\n",
        "    # This, being the base condition, will end the recursion and thereby make sure that the function will not call itself infinitly\n",
        "    if len(in_str) == 0:\n",
        "        return in_str\n",
        "    # Else, recursively call the reverse_string function to slice in_str from the second to last position (both included)\n",
        "    # (index [1:]), then concatenate it to the first character (index [0]), and finally return the result\n",
        "    else:\n",
        "        return reverse_string(in_str[1:]) + in_str[0]\n",
        "\n",
        "print(reverse_string(\"copenhagen\"))"
      ],
      "metadata": {
        "colab": {
          "base_uri": "https://localhost:8080/"
        },
        "id": "bPElbuWGr340",
        "outputId": "63a5af97-6baf-47de-96dd-fd3f90da16e6"
      },
      "execution_count": null,
      "outputs": [
        {
          "output_type": "stream",
          "name": "stdout",
          "text": [
            "negahnepoc\n"
          ]
        }
      ]
    },
    {
      "cell_type": "markdown",
      "source": [
        "### Question 4\n",
        "[Assignment on dictionaries and strings]"
      ],
      "metadata": {
        "id": "D7EDatizigWR"
      }
    },
    {
      "cell_type": "code",
      "source": [
        "# Question 4A\n",
        "\n",
        "# Assign the given values to the two variables, word and string\n",
        "word = \"cat\"\n",
        "string = \"ccgatcahctatttaaaaccctatcatastadfa\"\n",
        "\n",
        "# Count the frequence of each character in the word\n",
        "ch_in_word = [ch for ch in word]\n",
        "ch_freq_in_word = {}\n",
        "for items in sorted(ch_in_word):\n",
        "    ch_freq_in_word[items] = ch_in_word.count(items)\n",
        "print(\"Dictionary of characters in the word:\\n\\t\", ch_freq_in_word)\n",
        "\n",
        "# Count the frequence of each character in the string\n",
        "ch_in_string = [ch for ch in string]\n",
        "ch_freq_in_string = {}\n",
        "for items in sorted(ch_in_string):\n",
        "    ch_freq_in_string[items] = ch_in_string.count(items)\n",
        "print(\"Dictionary of characters in the string:\\n\\t\", ch_freq_in_string)\n",
        "    \n",
        "# Calculate the amount of times the word can be constructed from the string of characters\n",
        "for key in ch_freq_in_word:\n",
        "        divided_dict = {key: ch_freq_in_string[key] // ch_freq_in_word[key] for key in ch_freq_in_string.keys() & ch_freq_in_word}\n",
        "#print(\"Divided dictionary:\\n\\t\", divided_dict)\n",
        "print(\"From the characters of the given string, the word\", \"'\" + word + \"'\", \"can be constructed\", min(divided_dict.values()), \"time(s).\\n\")"
      ],
      "metadata": {
        "id": "ip1NRqpJinWK",
        "colab": {
          "base_uri": "https://localhost:8080/"
        },
        "outputId": "74ebfcdc-fce0-4ad2-ce9b-8e1044fae07f"
      },
      "execution_count": null,
      "outputs": [
        {
          "output_type": "stream",
          "name": "stdout",
          "text": [
            "Dictionary of characters in the word:\n",
            "\t {'a': 1, 'c': 1, 't': 1}\n",
            "Dictionary of characters in the string:\n",
            "\t {'a': 12, 'c': 8, 'd': 1, 'f': 1, 'g': 1, 'h': 1, 's': 1, 't': 9}\n",
            "From the characters of the given string, the word 'cat' can be constructed 8 time(s).\n",
            "\n"
          ]
        }
      ]
    },
    {
      "cell_type": "code",
      "source": [
        "# Question 4B\n",
        "\n",
        "def num_of_constructions(word, string):\n",
        "    \"\"\" A function that returns how many times a specific word can be constructed using the characters of a given string.\n",
        "    Takes in two arguments, a word and a string of characters, and returns a number. \"\"\"\n",
        "\n",
        "    # Print introduction to the program\n",
        "    print(\"Given two arguments, a word and a string, this function returns how many times the word can be constructed using the characters of the string.\")\n",
        "    \n",
        "    # Count the frequence of each character in the word\n",
        "    ch_in_word = [ch for ch in word]\n",
        "    ch_freq_in_word = {}\n",
        "    for items in sorted(ch_in_word):\n",
        "        ch_freq_in_word[items] = ch_in_word.count(items)\n",
        "    print(\"Dictionary of characters in the word:\\n\\t\", ch_freq_in_word)\n",
        "\n",
        "    # Count the frequence of each character in the string\n",
        "    ch_in_string = [ch for ch in string]\n",
        "    ch_freq_in_string = {}\n",
        "    for items in sorted(ch_in_string):\n",
        "        ch_freq_in_string[items] = ch_in_string.count(items)\n",
        "    print(\"Dictionary of characters in the string:\\n\\t\", ch_freq_in_string)\n",
        "    \n",
        "    # Calculate the amount of times the word can be constructed from the string of characters\n",
        "    for key in ch_freq_in_word:\n",
        "            divided_dict = {key: ch_freq_in_string[key] // ch_freq_in_word[key] for key in ch_freq_in_string.keys() & ch_freq_in_word}\n",
        "    #print(\"Divided dictionary:\\n\\t\", divided_dict)\n",
        "    print(\"From the characters of the given string, the word\", \"'\" + word + \"'\", \"can be constructed\", min(divided_dict.values()), \"time(s).\")\n",
        "\n",
        "\n",
        "# Test case to check the function\n",
        "num_of_constructions(\"test\", \"randomstringfullofdifferentcharacterstotestthefunction\")"
      ],
      "metadata": {
        "colab": {
          "base_uri": "https://localhost:8080/"
        },
        "id": "MHHv3ByMshCZ",
        "outputId": "21260771-1fa2-4ffd-ab00-cdc40b13bf5d"
      },
      "execution_count": null,
      "outputs": [
        {
          "output_type": "stream",
          "name": "stdout",
          "text": [
            "Given two arguments, a word and a string, this function returns how many times the word can be constructed using the characters of the string.\n",
            "Dictionary of characters in the word:\n",
            "\t {'e': 1, 's': 1, 't': 2}\n",
            "Dictionary of characters in the string:\n",
            "\t {'a': 3, 'c': 3, 'd': 2, 'e': 5, 'f': 5, 'g': 1, 'h': 2, 'i': 3, 'l': 2, 'm': 1, 'n': 5, 'o': 4, 'r': 5, 's': 3, 't': 8, 'u': 2}\n",
            "From the characters of the given string, the word 'test' can be constructed 3 time(s).\n"
          ]
        }
      ]
    },
    {
      "cell_type": "markdown",
      "source": [
        "### Question 5\n",
        "[Assignment on String Manipulation]"
      ],
      "metadata": {
        "id": "4ZLddhg4ioEK"
      }
    },
    {
      "cell_type": "code",
      "source": [
        "# Import the re module to provide regular expression matching operations\n",
        "import re\n",
        "\n",
        "\n",
        "# Define the function\n",
        "def extract_segments(string_to_parse, separator):\n",
        "    \"\"\"A function that extracts a string into segments of either characters or numbers.\n",
        "    Takes in two arguments, a string to extract into segments and a separator to separate the segments with.\n",
        "    Returns a tuple containing the extracted segments of characters and numbers, each separated by the given separator.\"\"\"\n",
        "\n",
        "    # Initialize an empty string for the character segment and the number segment, respectively\n",
        "    ch_segment = \"\"\n",
        "    num_segment = \"\"\n",
        "\n",
        "    # Split the given string on any non-alphanumeric characters, using the split() function of the re module\n",
        "    segments = re.split(\"[^0-9a-zA-Z]+\", string_to_parse)\n",
        "\n",
        "    # Loop through each segment and separate them into either the string of characters or string of numbers,\n",
        "    # using the given separator\n",
        "    for segment in segments:\n",
        "        if segment.isalpha():\n",
        "            ch_segment = ch_segment + segment + separator\n",
        "        elif segment.isnumeric():\n",
        "            num_segment = num_segment + segment + separator\n",
        "\n",
        "    # Create the tuple to be returned, containing the strings of the two extracted segments\n",
        "    tuple_to_be_returned = (ch_segment[:-1], num_segment[:-1])\n",
        "    print(tuple_to_be_returned)\n",
        "\n",
        "\n",
        "# Test case to check the function\n",
        "\n",
        "string_to_parse = \"Copenhagen hosted Cop -09 summit ’ \\\n",
        "                    ’ at Bella Centre in 2009 , which ’ \\\n",
        "                    ’ was attended by delegates from ’ \\\n",
        "                    ’ more than 100 countries.\"\n",
        "\n",
        "separator = \"_\"\n",
        "\n",
        "extract_segments(string_to_parse, separator)"
      ],
      "metadata": {
        "colab": {
          "base_uri": "https://localhost:8080/"
        },
        "id": "7JZFDJcMiR2Q",
        "outputId": "4bb50034-5ca5-4b2e-d905-726899837fc2"
      },
      "execution_count": null,
      "outputs": [
        {
          "output_type": "stream",
          "name": "stdout",
          "text": [
            "('Copenhagen_hosted_Cop_summit_at_Bella_Centre_in_which_was_attended_by_delegates_from_more_than_countries', '09_2009_100')\n"
          ]
        }
      ]
    },
    {
      "cell_type": "markdown",
      "source": [
        "## **Section II. Python Programming Assignment**"
      ],
      "metadata": {
        "id": "VfLMDYCsSyez"
      }
    },
    {
      "cell_type": "markdown",
      "source": [
        "**Defining classes**\n"
      ],
      "metadata": {
        "id": "NPaUaELXo8ON"
      }
    },
    {
      "cell_type": "markdown",
      "source": [
        "In this section is created the classes and their respective functions, which we are going to used for the manage system "
      ],
      "metadata": {
        "id": "ZICVLP7IpQks"
      }
    },
    {
      "cell_type": "code",
      "source": [
        "# Creating the class UniqueID, for the purpose to add a unique number to the Student_ID\n",
        "\n",
        "class UniqueId:\n",
        "    unique_id = 100000\n",
        "\n",
        "    # This class only includes a function which moves per 1 the last part of their respective ID's created after. \n",
        "\n",
        "    def get_next_id(self):\n",
        "        UniqueId.unique_id += 1\n",
        "        return UniqueId.unique_id\n",
        "\n",
        " # In this part begins the class Diploma, which includes 9 functions. \n",
        " # This Class gives an overview of the programme and further functions to update it.\n",
        "\n",
        "class DiplomaProgramme:\n",
        "\n",
        "# The functions is initialized by declaring the mandatory courses in the Diploma, a empty list of students and the min requirements to pass and pass with distinction\n",
        "\n",
        "    def __init__(self):\n",
        "        self.courses = {\"Python Programming\": Course(\"Python Programming\"),\n",
        "                        \"Data Mining and Machine Learning\": Course(\"Data Mining and Machine Learning\"),\n",
        "                        \"Visual Analytics\": Course(\"Visual Analytics\"),\n",
        "                        \"Text Analytics\": Course(\"Text Analytics\")\n",
        "                        }\n",
        "        self.students = {}\n",
        "        self.pass_limit = 11\n",
        "        self.pass_distinction_limit = 16\n",
        "  \n",
        "  # The function add is made to update the courses in the programme if its necessary in the future, evaluating the course does not already exists. \n",
        "\n",
        "    def add_course(self, course_name):\n",
        "        if course_name in self.courses.keys():\n",
        "            print(\"Course already exists, will not add it\")\n",
        "        else:\n",
        "            self.courses[course_name] = Course(course_name)\n",
        "\n",
        "  # The function remove is made to update the courses in the programme if its necessary in the future, evaluating if the course is already in the programme. \n",
        "\n",
        "    def remove_course(self, course_name):\n",
        "        if course_name not in self.courses.keys():\n",
        "            print('Course does not exist, will not remove it')\n",
        "        else:\n",
        "            self.courses.pop(course_name)\n",
        "\n",
        "# This function is created to check (print) if the add course and remove course already remove the self.courses variable, which has the mandatory courses in the Diploma\n",
        "\n",
        "    def print_courses(self):\n",
        "        print(self.courses.keys())\n",
        "\n",
        "# This function is created to list the courses in the variable self.courses and listed after in the test to grade the students\n",
        "\n",
        "    def list_courses(self):\n",
        "        return self.courses\n",
        "\n",
        "# Once is created an student, we should register them in the diploma. \n",
        "# All the students created are add it with only calling the function.\n",
        "\n",
        "    def register_students(self, students):\n",
        "        for student in students:\n",
        "            self.students[student.get_id()] = student\n",
        "            # Automatically add student to diploma´s courses\n",
        "            for course in self.courses.keys():\n",
        "                self.courses[course].add_student(student)\n",
        "\n",
        "# This function print the student info of the students enrolled in the programme\n",
        "    def list_students(self):\n",
        "        print(\"Diploma Students\")\n",
        "        for student_id in self.students.keys():\n",
        "            print(student_id,\n",
        "                  self.students[student_id].name,\n",
        "                  self.students[student_id].lastname)\n",
        "            \n",
        "# This function print the list of the students who pass, fail or PASS with distinction the Diploma\n",
        "\n",
        "    def diploma_scores(self):\n",
        "        students_scores = {}\n",
        "        for student_id, student in self.students.items():\n",
        "            assignment_score = 0\n",
        "            # Calculating student score by iterating through each course\n",
        "            for course in student.courses_enrolled():\n",
        "                # Get Grades for student, per course enrolled\n",
        "                assignment_score += student.student_grades(course).count(\"PASS\")\n",
        "            students_scores[student.get_id()] = self.score_description(assignment_score)\n",
        "        print(\"Assignment Score\")\n",
        "        print(students_scores)\n",
        "\n",
        "# This function is created to establish the number of assignments required to pass the diploma. \n",
        "# It is used in the previous function to change the print result for the number of assignments, to PASS, FAIL or Pass with distinction\n",
        "# The limits were established in the init function of this class \n",
        "\n",
        "    def score_description(self,score):\n",
        "        if score > self.pass_distinction_limit:\n",
        "            return 'PASS with distinction'\n",
        "        if score > self.pass_limit:\n",
        "            return 'PASS'\n",
        "        return 'FAIL'\n",
        "\n",
        "# In this part begins the class Student, which includes 8 functions. \n",
        "\n",
        "class Student:\n",
        "\n",
        "  # This function initializes with a function which creates the students, require for the user to enter the name last name and...\n",
        "  #date of birthday (dob) in a format \"DDMMYY\" and an empty dictionary with the grades of the student. \n",
        "\n",
        "    def __init__(self, name, lastname, dob):\n",
        "        self.name = name\n",
        "        self.lastname = lastname\n",
        "        self.dob = dob\n",
        "        self.id = self.create_id()\n",
        "        self.courses_grades = {}\n",
        "\n",
        "# This function enroll the student in the courses which the user/teacher teachs and assigned five assignments ungraded\n",
        "\n",
        "    def enroll_to_course(self, course_name):\n",
        "        self.courses_grades[course_name] = [\"UNGRADED\", \"UNGRADED\", \"UNGRADED\", \"UNGRADED\", \"UNGRADED\"]\n",
        "\n",
        "# This function is createad with the puprose to get the ID of the student easily in all the other functions. \n",
        "    def get_id(self):\n",
        "        return self.id\n",
        "\n",
        "# In this function is created the first part of the ID of the student and added a code to make it unique. \n",
        "\n",
        "    def create_id(self):\n",
        "        u = UniqueId()\n",
        "        full_name = self.name[:2].upper(), self.lastname[:2].upper()\n",
        "        full_name_reduced = ''.join(full_name)\n",
        "        return full_name_reduced + str(u.get_next_id())\n",
        "\n",
        "# This function returns the list of the couses the student is enrolled. \n",
        "# It is used in the Diploma class to evaluate the number the assignmets passed by course.  \n",
        "\n",
        "    def courses_enrolled(self):\n",
        "        return list(self.courses_grades.keys())\n",
        "\n",
        "# This function prints the student's grades per course \n",
        "\n",
        "    def print_student_grades(self):\n",
        "        for course in self.courses_grades.keys():\n",
        "            print(f\"Course {course}: {self.courses_grades[course]}\")\n",
        "\n",
        "# This function return the student's grades per course\n",
        "\n",
        "    def student_grades(self, course_name):\n",
        "        return self.courses_grades[course_name]\n",
        "\n",
        "# This function print all  students info, courses enrolled and their respectives grades divided by * per student\n",
        "\n",
        "    def student_info(self):\n",
        "        print(\"-\"*20)\n",
        "        print('Student info: ')\n",
        "        print(self.name, self.lastname, self.id)\n",
        "        print('The student is enrolled in this courses: ')\n",
        "        for enrolled_course in self.courses_enrolled():\n",
        "            print(f'Assignment grades/{enrolled_course}')\n",
        "            print(self.student_grades(enrolled_course))\n",
        "        print(\"-\"*16)\n",
        "\n",
        "# In this part begins the class Course, which includes 7 functions. \n",
        "\n",
        "class Course:\n",
        "   \n",
        "# The function is initializated requiring the argument course_name, with and \n",
        "# empty list of students enrolled in them\n",
        "   \n",
        "    def __init__(self, course_name):\n",
        "        self.course_name = course_name\n",
        "        self.students_enrolled = []\n",
        "\n",
        "# The function requires the argument student_id to check if it is in the Diploma, if not\n",
        "#that should be creater first. \n",
        "\n",
        "    def get_student(self, student_id):\n",
        "        for course_student in self.students_enrolled:\n",
        "            if student_id == course_student.get_id():\n",
        "                return course_student\n",
        "        print(f\"Student with student_id {student_id} not found\")\n",
        "        return None\n",
        "\n",
        "#This function is used to add students per course, and evaluate if they already enrolled in the course\n",
        "\n",
        "    def add_student(self, student):\n",
        "        if student in self.students_enrolled:\n",
        "            raise Exception('The student is already assigned')\n",
        "        else:\n",
        "            self.students_enrolled.append(student)\n",
        "            student.enroll_to_course(self.course_name)\n",
        "\n",
        "# This function is used to remove students per course\n",
        "\n",
        "    def remove_student(self, student_id):\n",
        "        for student in self.students_enrolled:\n",
        "            if student.get_id() == student_id:\n",
        "                self.students_enrolled.remove(student)\n",
        "\n",
        "#This function is used to count per assignments how many assignents the student PASS in the course\n",
        " \n",
        "    def grade_student(self, student_id):\n",
        "        student = self.get_student(student_id)\n",
        "        if student is not None:\n",
        "            student_grades = student.courses_grades[self.course_name]\n",
        "            assignment_score = 0\n",
        "            for grade in student_grades:\n",
        "                if grade == \"PASS\":\n",
        "                    assignment_score += 1\n",
        "            return assignment_score, self.pass_course(assignment_score)\n",
        "\n",
        "#This function is used to evaluate if the number of assignments graded with \"PASS\"\n",
        "#are more or equals to 3 to pass a course\n",
        "\n",
        "    def pass_course(self, assignment_score):\n",
        "        if assignment_score >= 3:\n",
        "            return True\n",
        "        return False\n",
        "\n",
        "#This function is used to grade assignments per course, requiring the student_ID and grades \n",
        "    def grade_assignments(self, student_id, grades):\n",
        "        student = self.get_student(student_id)\n",
        "        if student is not None:\n",
        "            student.courses_grades[self.course_name] = grades\n",
        "\n"
      ],
      "metadata": {
        "id": "5s-bbGD4S8Fy"
      },
      "execution_count": null,
      "outputs": []
    },
    {
      "cell_type": "markdown",
      "source": [
        "**Testing section of II part**\n",
        "\n",
        "To test everything in the classes and check everything works well were created the next functions to simplify the process"
      ],
      "metadata": {
        "id": "JOSJYjIA82j0"
      }
    },
    {
      "cell_type": "code",
      "source": [
        "# Testing section\n",
        "\n",
        "\n",
        "# For the purposes of this test, it is going to be used only three lists of grades for the assignments to make one student fail\n",
        "#and one pass with distinction\n",
        "\n",
        "grades_test_pass = [\"PASS\", \"FAIL\", \"PASS\", \"PASS\", \"PASS\"]\n",
        "grades_test_fail = [\"PASS\", \"FAIL\", \"FAIL\", \"FAIL\", \"PASS\"]\n",
        "grades_test_pass_distinction = [\"PASS\", \"PASS\", \"PASS\", \"PASS\", \"PASS\"]\n",
        "\n",
        "#To test the diploma student quality are assigned to 3 students with their respective grades to \n",
        "#test their scores. \n",
        "\n",
        "def test_diploma_student(students):\n",
        "    diploma = DiplomaProgramme()\n",
        "    # Testing the register_students() function in the Diploma Class - will add students to a Diploma\n",
        "    diploma.register_students(students)\n",
        "    # Testing the list_students() function in the Diploma Class - will list all students in the Diploma\n",
        "    diploma.list_students()\n",
        "    print(\"Courses per Student\")\n",
        "    # Testing the get_id() and courses_enrolled() functions in the Student Class - Will retrieve a student ID and the courses they are enrolled to\n",
        "    for s in students:\n",
        "        print(s.get_id(), s.courses_enrolled())\n",
        "    # Testing the grade assignments function in the Course Class - Will grade the 5 assignments of a student for each course they are enrolled in, in the diploma\n",
        "    for course_name, course in diploma.list_courses().items():\n",
        "        course.grade_assignments('ANPE100002', grades_test_fail)\n",
        "        course.grade_assignments('ANGO100003', grades_test_pass_distinction)\n",
        "        course.grade_assignments('ROPE100001', grades_test_pass)\n",
        "    # Testing the diploma_scores() function in the Diploma Class - Will print out a summary of the overall diploma scores for each course\n",
        "    diploma.diploma_scores()\n",
        "\n",
        "  \n",
        "# Create an input test vector of students\n",
        "\n",
        "student_info = [\n",
        "    {\"name\": \"Rocio\", \"surname\": \"Pereyra\", \"dob\": \"100795\"},\n",
        "    {\"name\": \"Andrea\", \"surname\": \"Perez\", \"dob\": \"071290\"},\n",
        "    {\"name\": \"Andres\", \"surname\": \"Gonzalez\", \"dob\": \"250886\"},\n",
        "]\n",
        "\n",
        "students = []\n",
        "for student in student_info:\n",
        "    s = Student(name=student[\"name\"],\n",
        "                lastname=student[\"surname\"],\n",
        "                dob=student[\"dob\"])\n",
        "    students.append(s)\n",
        "\n",
        "\n",
        "test_diploma_student(students)\n",
        "    \n"
      ],
      "metadata": {
        "colab": {
          "base_uri": "https://localhost:8080/"
        },
        "id": "GjLX6x_38TGm",
        "outputId": "428f96ff-8686-474d-df2a-ef01ff11b824"
      },
      "execution_count": null,
      "outputs": [
        {
          "output_type": "stream",
          "name": "stdout",
          "text": [
            "Diploma Students\n",
            "ROPE100001 Rocio Pereyra\n",
            "ANPE100002 Andrea Perez\n",
            "ANGO100003 Andres Gonzalez\n",
            "Courses per Student\n",
            "ROPE100001 ['Python Programming', 'Data Mining and Machine Learning', 'Visual Analytics', 'Text Analytics']\n",
            "ANPE100002 ['Python Programming', 'Data Mining and Machine Learning', 'Visual Analytics', 'Text Analytics']\n",
            "ANGO100003 ['Python Programming', 'Data Mining and Machine Learning', 'Visual Analytics', 'Text Analytics']\n",
            "Assignment Score\n",
            "{'ROPE100001': 'PASS', 'ANPE100002': 'FAIL', 'ANGO100003': 'PASS with distinction'}\n"
          ]
        }
      ]
    },
    {
      "cell_type": "code",
      "source": [
        "# Testing adding and removing courses from the Diploma\n",
        "\n",
        "def test_diploma_update_programme():\n",
        "    diploma = DiplomaProgramme()\n",
        "    # Testing the print_courses() function in the Diploma class - will print out all the courses of a diploma\n",
        "    diploma.print_courses()\n",
        "    # Testing the add_course() function in the Diploma class - will add a course to a diploma\n",
        "    diploma.add_course(\"Big Data\")\n",
        "    diploma.add_course(\"Cybersecurity\")\n",
        "    diploma.print_courses()\n",
        "    # Testing the remove_course() function in the Diploma class - will remove a course from a diploma\n",
        "    diploma.remove_course(\"Big Data\")\n",
        "    diploma.print_courses()\n",
        "    diploma.add_course(\"Cybersecurity\")\n",
        "    diploma.remove_course(\"Storytelling\")\n",
        "    diploma.print_courses()\n",
        "    diploma.remove_course(\"Cybersecurity\")\n",
        "    diploma.print_courses()\n",
        "\n",
        "test_diploma_update_programme()"
      ],
      "metadata": {
        "colab": {
          "base_uri": "https://localhost:8080/"
        },
        "id": "ixiU3GLJ916w",
        "outputId": "b71554a1-398f-4eea-9a12-819a2f644d73"
      },
      "execution_count": null,
      "outputs": [
        {
          "output_type": "stream",
          "name": "stdout",
          "text": [
            "dict_keys(['Python Programming', 'Data Mining and Machine Learning', 'Visual Analytics', 'Text Analytics'])\n",
            "dict_keys(['Python Programming', 'Data Mining and Machine Learning', 'Visual Analytics', 'Text Analytics', 'Big Data', 'Cybersecurity'])\n",
            "dict_keys(['Python Programming', 'Data Mining and Machine Learning', 'Visual Analytics', 'Text Analytics', 'Cybersecurity'])\n",
            "Course already exists, will not add it\n",
            "Course does not exist, will not remove it\n",
            "dict_keys(['Python Programming', 'Data Mining and Machine Learning', 'Visual Analytics', 'Text Analytics', 'Cybersecurity'])\n",
            "dict_keys(['Python Programming', 'Data Mining and Machine Learning', 'Visual Analytics', 'Text Analytics'])\n"
          ]
        }
      ]
    },
    {
      "cell_type": "code",
      "source": [
        "#Testing Student Info\n",
        "\n",
        "#Note To run this part to test, it is important to re-established all the execution environment or the code is going \n",
        "#to change the studentID, for example instead of ROPE100001 it is going to be ROPE100002\n",
        "\n",
        "for s in students:\n",
        "        s.student_info()"
      ],
      "metadata": {
        "colab": {
          "base_uri": "https://localhost:8080/"
        },
        "id": "r56jgUFf-5uF",
        "outputId": "93a7b619-3daa-4c4f-d785-6e0314edc853"
      },
      "execution_count": null,
      "outputs": [
        {
          "output_type": "stream",
          "name": "stdout",
          "text": [
            "--------------------\n",
            "Student info: \n",
            "Rocio Pereyra ROPE100001\n",
            "The student is enrolled in this courses: \n",
            "Assignment grades/Python Programming\n",
            "['PASS', 'FAIL', 'PASS', 'PASS', 'PASS']\n",
            "Assignment grades/Data Mining and Machine Learning\n",
            "['PASS', 'FAIL', 'PASS', 'PASS', 'PASS']\n",
            "Assignment grades/Visual Analytics\n",
            "['PASS', 'FAIL', 'PASS', 'PASS', 'PASS']\n",
            "Assignment grades/Text Analytics\n",
            "['PASS', 'FAIL', 'PASS', 'PASS', 'PASS']\n",
            "----------------\n",
            "--------------------\n",
            "Student info: \n",
            "Andrea Perez ANPE100002\n",
            "The student is enrolled in this courses: \n",
            "Assignment grades/Python Programming\n",
            "['PASS', 'FAIL', 'FAIL', 'FAIL', 'PASS']\n",
            "Assignment grades/Data Mining and Machine Learning\n",
            "['PASS', 'FAIL', 'FAIL', 'FAIL', 'PASS']\n",
            "Assignment grades/Visual Analytics\n",
            "['PASS', 'FAIL', 'FAIL', 'FAIL', 'PASS']\n",
            "Assignment grades/Text Analytics\n",
            "['PASS', 'FAIL', 'FAIL', 'FAIL', 'PASS']\n",
            "----------------\n",
            "--------------------\n",
            "Student info: \n",
            "Andres Gonzalez ANGO100003\n",
            "The student is enrolled in this courses: \n",
            "Assignment grades/Python Programming\n",
            "['PASS', 'PASS', 'PASS', 'PASS', 'PASS']\n",
            "Assignment grades/Data Mining and Machine Learning\n",
            "['PASS', 'PASS', 'PASS', 'PASS', 'PASS']\n",
            "Assignment grades/Visual Analytics\n",
            "['PASS', 'PASS', 'PASS', 'PASS', 'PASS']\n",
            "Assignment grades/Text Analytics\n",
            "['PASS', 'PASS', 'PASS', 'PASS', 'PASS']\n",
            "----------------\n"
          ]
        }
      ]
    },
    {
      "cell_type": "code",
      "source": [
        "#Testing Course Class\n",
        "\n",
        "def test_course_class(course_students):\n",
        "    python_programming = Course(course_name=\"Python Programming\")\n",
        "    # Testing the add_student() function in the Course class - will add a student to a course\n",
        "    for student in course_students:\n",
        "        python_programming.add_student(student)\n",
        "    # Testing the grade_assignments() function in the Course class - will grade the 5 assignments of a student for the course\n",
        "    python_programming.grade_assignments('ANPE100002', grades_test_fail)\n",
        "    python_programming.grade_assignments('ANGO100003', grades_test_pass_distinction)\n",
        "    python_programming.grade_assignments('ROPE100001', grades_test_pass)\n",
        "    # Testing the grade_student() function in the Course class - will determine how many assignments passed and if a student passed the course\n",
        "    course_score, agg_score = python_programming.grade_student('ROPE100001')\n",
        "    print(f\"Course score: {course_score}, PASS: {agg_score}\")\n",
        "    \n",
        "    # Testing invalid student_id in course - if a student is not in a course returns not found\n",
        "    python_programming.get_student('ROPE100003')\n",
        "\n",
        "test_course_class(course_students=students)"
      ],
      "metadata": {
        "id": "o3Jv_CBZQqCv",
        "colab": {
          "base_uri": "https://localhost:8080/"
        },
        "outputId": "1d4fee83-8bb9-4c85-bb39-40d079cceabe"
      },
      "execution_count": null,
      "outputs": [
        {
          "output_type": "stream",
          "name": "stdout",
          "text": [
            "Course score: 4, PASS: True\n",
            "Student with student_id ROPE100003 not found\n"
          ]
        }
      ]
    }
  ]
}